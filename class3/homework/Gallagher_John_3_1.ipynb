{
 "cells": [
  {
   "cell_type": "code",
   "execution_count": 6,
   "metadata": {
    "collapsed": false
   },
   "outputs": [],
   "source": [
    "# Assignment #1\n",
    "\n",
    "# Input: a list of integer values\n",
    " \n",
    "# Get input of a list of integer values and pass the values to a list\n",
    " \n",
    "# \n",
    " \n",
    "# Operation: sort the list\n",
    " \n",
    "# sort the list\n",
    " \n",
    "# \n",
    " \n",
    "# Output: a sorted list of values\n",
    " \n",
    "# print the list\n",
    " \n",
    "# print(intlist)\n",
    " \n",
    "# Note: Don't worry about checking data types, assume they'll always be integers but design for other error conditions_\n",
    " \n",
    "import random"
   ]
  },
  {
   "cell_type": "code",
   "execution_count": 63,
   "metadata": {
    "collapsed": false
   },
   "outputs": [],
   "source": [
    "\n",
    "\n",
    "int_list = random.sample(range(1, 100), 10)\n",
    "def sort_list(l):\n",
    "    sorted_list = []\n",
    "    while l:\n",
    "        minimum = l[0]  \n",
    "        for x in l:\n",
    "            if x < minimum:\n",
    "                    minimum = x\n",
    "        sorted_list.append(minimum)\n",
    "        int_list.remove(minimum)\n",
    "            \n",
    "    print(sorted_list)\n",
    "    \n",
    "    \n"
   ]
  },
  {
   "cell_type": "code",
   "execution_count": 64,
   "metadata": {
    "collapsed": false
   },
   "outputs": [
    {
     "name": "stdout",
     "output_type": "stream",
     "text": [
      "[5, 15, 35, 56, 57, 61, 62, 67, 81, 99]\n"
     ]
    }
   ],
   "source": [
    "sort_list(int_list)"
   ]
  },
  {
   "cell_type": "raw",
   "metadata": {},
   "source": []
  },
  {
   "cell_type": "code",
   "execution_count": null,
   "metadata": {
    "collapsed": false
   },
   "outputs": [],
   "source": []
  },
  {
   "cell_type": "code",
   "execution_count": null,
   "metadata": {
    "collapsed": false
   },
   "outputs": [],
   "source": []
  },
  {
   "cell_type": "code",
   "execution_count": null,
   "metadata": {
    "collapsed": true
   },
   "outputs": [],
   "source": []
  }
 ],
 "metadata": {
  "kernelspec": {
   "display_name": "Python 3",
   "language": "python",
   "name": "python3"
  },
  "language_info": {
   "codemirror_mode": {
    "name": "ipython",
    "version": 3
   },
   "file_extension": ".py",
   "mimetype": "text/x-python",
   "name": "python",
   "nbconvert_exporter": "python",
   "pygments_lexer": "ipython3",
   "version": "3.5.2"
  }
 },
 "nbformat": 4,
 "nbformat_minor": 0
}
